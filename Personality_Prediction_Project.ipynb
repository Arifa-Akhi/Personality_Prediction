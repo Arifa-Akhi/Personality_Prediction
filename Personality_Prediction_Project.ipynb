{
 "cells": [
  {
   "cell_type": "code",
   "execution_count": 2,
   "id": "b983e1c2",
   "metadata": {},
   "outputs": [],
   "source": [
    "from numpy import *\n",
    "import numpy as np\n",
    "import pandas as pd\n",
    "import matplotlib.pyplot as plt\n",
    "import seaborn as sns\n",
    "from sklearn import preprocessing\n",
    "from sklearn.preprocessing import StandardScaler\n",
    "from sklearn.model_selection import train_test_split\n",
    "from sklearn import neighbors\n",
    "from sklearn import metrics \n",
    "from sklearn.neighbors import KNeighborsClassifier\n",
    "from sklearn.linear_model import LogisticRegression\n",
    "from sklearn.naive_bayes import GaussianNB\n",
    "from sklearn.svm import SVC\n",
    "from sklearn.ensemble import RandomForestClassifier\n",
    "from sklearn.tree import DecisionTreeClassifier\n",
    "\n",
    "#from sklearn.cross_validation import KFold \n",
    "    \n",
    "from sklearn.metrics import confusion_matrix\n",
    "\n",
    "from sklearn.metrics import precision_score, recall_score, f1_score, accuracy_score\n",
    "import matplotlib.pyplot as plt\n",
    "\n",
    "%matplotlib inline"
   ]
  },
  {
   "cell_type": "code",
   "execution_count": 3,
   "id": "d7da50bd",
   "metadata": {},
   "outputs": [
    {
     "data": {
      "text/html": [
       "<div>\n",
       "<style scoped>\n",
       "    .dataframe tbody tr th:only-of-type {\n",
       "        vertical-align: middle;\n",
       "    }\n",
       "\n",
       "    .dataframe tbody tr th {\n",
       "        vertical-align: top;\n",
       "    }\n",
       "\n",
       "    .dataframe thead th {\n",
       "        text-align: right;\n",
       "    }\n",
       "</style>\n",
       "<table border=\"1\" class=\"dataframe\">\n",
       "  <thead>\n",
       "    <tr style=\"text-align: right;\">\n",
       "      <th></th>\n",
       "      <th>Gender</th>\n",
       "      <th>Age</th>\n",
       "      <th>openness</th>\n",
       "      <th>neuroticism</th>\n",
       "      <th>conscientiousness</th>\n",
       "      <th>agreeableness</th>\n",
       "      <th>extraversion</th>\n",
       "      <th>Personality (Class label)</th>\n",
       "    </tr>\n",
       "  </thead>\n",
       "  <tbody>\n",
       "    <tr>\n",
       "      <th>0</th>\n",
       "      <td>Male</td>\n",
       "      <td>17</td>\n",
       "      <td>7</td>\n",
       "      <td>4</td>\n",
       "      <td>7</td>\n",
       "      <td>3</td>\n",
       "      <td>2</td>\n",
       "      <td>extraverted</td>\n",
       "    </tr>\n",
       "    <tr>\n",
       "      <th>1</th>\n",
       "      <td>Male</td>\n",
       "      <td>19</td>\n",
       "      <td>4</td>\n",
       "      <td>5</td>\n",
       "      <td>4</td>\n",
       "      <td>6</td>\n",
       "      <td>6</td>\n",
       "      <td>serious</td>\n",
       "    </tr>\n",
       "    <tr>\n",
       "      <th>2</th>\n",
       "      <td>Female</td>\n",
       "      <td>18</td>\n",
       "      <td>7</td>\n",
       "      <td>6</td>\n",
       "      <td>4</td>\n",
       "      <td>5</td>\n",
       "      <td>5</td>\n",
       "      <td>dependable</td>\n",
       "    </tr>\n",
       "    <tr>\n",
       "      <th>3</th>\n",
       "      <td>Female</td>\n",
       "      <td>22</td>\n",
       "      <td>5</td>\n",
       "      <td>6</td>\n",
       "      <td>7</td>\n",
       "      <td>4</td>\n",
       "      <td>3</td>\n",
       "      <td>extraverted</td>\n",
       "    </tr>\n",
       "    <tr>\n",
       "      <th>4</th>\n",
       "      <td>Female</td>\n",
       "      <td>19</td>\n",
       "      <td>7</td>\n",
       "      <td>4</td>\n",
       "      <td>6</td>\n",
       "      <td>5</td>\n",
       "      <td>4</td>\n",
       "      <td>lively</td>\n",
       "    </tr>\n",
       "    <tr>\n",
       "      <th>...</th>\n",
       "      <td>...</td>\n",
       "      <td>...</td>\n",
       "      <td>...</td>\n",
       "      <td>...</td>\n",
       "      <td>...</td>\n",
       "      <td>...</td>\n",
       "      <td>...</td>\n",
       "      <td>...</td>\n",
       "    </tr>\n",
       "    <tr>\n",
       "      <th>299</th>\n",
       "      <td>Female</td>\n",
       "      <td>17</td>\n",
       "      <td>5</td>\n",
       "      <td>5</td>\n",
       "      <td>7</td>\n",
       "      <td>6</td>\n",
       "      <td>4</td>\n",
       "      <td>serious</td>\n",
       "    </tr>\n",
       "    <tr>\n",
       "      <th>300</th>\n",
       "      <td>Male</td>\n",
       "      <td>20</td>\n",
       "      <td>6</td>\n",
       "      <td>6</td>\n",
       "      <td>5</td>\n",
       "      <td>4</td>\n",
       "      <td>5</td>\n",
       "      <td>serious</td>\n",
       "    </tr>\n",
       "    <tr>\n",
       "      <th>301</th>\n",
       "      <td>Male</td>\n",
       "      <td>18</td>\n",
       "      <td>6</td>\n",
       "      <td>3</td>\n",
       "      <td>1</td>\n",
       "      <td>4</td>\n",
       "      <td>6</td>\n",
       "      <td>lively</td>\n",
       "    </tr>\n",
       "    <tr>\n",
       "      <th>302</th>\n",
       "      <td>Female</td>\n",
       "      <td>19</td>\n",
       "      <td>3</td>\n",
       "      <td>5</td>\n",
       "      <td>3</td>\n",
       "      <td>5</td>\n",
       "      <td>4</td>\n",
       "      <td>serious</td>\n",
       "    </tr>\n",
       "    <tr>\n",
       "      <th>303</th>\n",
       "      <td>Male</td>\n",
       "      <td>19</td>\n",
       "      <td>6</td>\n",
       "      <td>6</td>\n",
       "      <td>6</td>\n",
       "      <td>4</td>\n",
       "      <td>6</td>\n",
       "      <td>responsible</td>\n",
       "    </tr>\n",
       "  </tbody>\n",
       "</table>\n",
       "<p>304 rows × 8 columns</p>\n",
       "</div>"
      ],
      "text/plain": [
       "     Gender  Age  openness  neuroticism  conscientiousness  agreeableness  \\\n",
       "0      Male   17         7            4                  7              3   \n",
       "1      Male   19         4            5                  4              6   \n",
       "2    Female   18         7            6                  4              5   \n",
       "3    Female   22         5            6                  7              4   \n",
       "4    Female   19         7            4                  6              5   \n",
       "..      ...  ...       ...          ...                ...            ...   \n",
       "299  Female   17         5            5                  7              6   \n",
       "300    Male   20         6            6                  5              4   \n",
       "301    Male   18         6            3                  1              4   \n",
       "302  Female   19         3            5                  3              5   \n",
       "303    Male   19         6            6                  6              4   \n",
       "\n",
       "     extraversion Personality (Class label)  \n",
       "0               2               extraverted  \n",
       "1               6                   serious  \n",
       "2               5                dependable  \n",
       "3               3               extraverted  \n",
       "4               4                    lively  \n",
       "..            ...                       ...  \n",
       "299             4                   serious  \n",
       "300             5                   serious  \n",
       "301             6                    lively  \n",
       "302             4                   serious  \n",
       "303             6               responsible  \n",
       "\n",
       "[304 rows x 8 columns]"
      ]
     },
     "execution_count": 3,
     "metadata": {},
     "output_type": "execute_result"
    }
   ],
   "source": [
    "data =pd.read_csv('C:/Users/arifa/Desktop/AI FINAL PROJECT/A203/dataset.csv')\n",
    "data\n"
   ]
  },
  {
   "cell_type": "code",
   "execution_count": 4,
   "id": "649b7832",
   "metadata": {},
   "outputs": [
    {
     "data": {
      "image/png": "[encoded data removed]",
      "text/plain": [
       "<Figure size 864x576 with 2 Axes>"
      ]
     },
     "metadata": {
      "needs_background": "light"
     },
     "output_type": "display_data"
    },
    {
     "data": {
      "text/html": [
       "<div>\n",
       "<style scoped>\n",
       "    .dataframe tbody tr th:only-of-type {\n",
       "        vertical-align: middle;\n",
       "    }\n",
       "\n",
       "    .dataframe tbody tr th {\n",
       "        vertical-align: top;\n",
       "    }\n",
       "\n",
       "    .dataframe thead th {\n",
       "        text-align: right;\n",
       "    }\n",
       "</style>\n",
       "<table border=\"1\" class=\"dataframe\">\n",
       "  <thead>\n",
       "    <tr style=\"text-align: right;\">\n",
       "      <th></th>\n",
       "      <th>Gender</th>\n",
       "      <th>Age</th>\n",
       "      <th>openness</th>\n",
       "      <th>neuroticism</th>\n",
       "      <th>conscientiousness</th>\n",
       "      <th>agreeableness</th>\n",
       "      <th>extraversion</th>\n",
       "    </tr>\n",
       "  </thead>\n",
       "  <tbody>\n",
       "    <tr>\n",
       "      <th>count</th>\n",
       "      <td>304.000000</td>\n",
       "      <td>304.000000</td>\n",
       "      <td>304.000000</td>\n",
       "      <td>304.000000</td>\n",
       "      <td>304.000000</td>\n",
       "      <td>304.000000</td>\n",
       "      <td>304.000000</td>\n",
       "    </tr>\n",
       "    <tr>\n",
       "      <th>mean</th>\n",
       "      <td>0.588816</td>\n",
       "      <td>19.213816</td>\n",
       "      <td>5.148026</td>\n",
       "      <td>4.463816</td>\n",
       "      <td>4.388158</td>\n",
       "      <td>4.953947</td>\n",
       "      <td>4.276316</td>\n",
       "    </tr>\n",
       "    <tr>\n",
       "      <th>std</th>\n",
       "      <td>0.492860</td>\n",
       "      <td>2.059432</td>\n",
       "      <td>1.407592</td>\n",
       "      <td>1.762838</td>\n",
       "      <td>1.783864</td>\n",
       "      <td>1.605843</td>\n",
       "      <td>1.629746</td>\n",
       "    </tr>\n",
       "    <tr>\n",
       "      <th>min</th>\n",
       "      <td>0.000000</td>\n",
       "      <td>17.000000</td>\n",
       "      <td>1.000000</td>\n",
       "      <td>1.000000</td>\n",
       "      <td>1.000000</td>\n",
       "      <td>1.000000</td>\n",
       "      <td>1.000000</td>\n",
       "    </tr>\n",
       "    <tr>\n",
       "      <th>25%</th>\n",
       "      <td>0.000000</td>\n",
       "      <td>18.000000</td>\n",
       "      <td>4.000000</td>\n",
       "      <td>3.000000</td>\n",
       "      <td>3.000000</td>\n",
       "      <td>4.000000</td>\n",
       "      <td>3.000000</td>\n",
       "    </tr>\n",
       "    <tr>\n",
       "      <th>50%</th>\n",
       "      <td>1.000000</td>\n",
       "      <td>19.000000</td>\n",
       "      <td>5.000000</td>\n",
       "      <td>5.000000</td>\n",
       "      <td>5.000000</td>\n",
       "      <td>5.000000</td>\n",
       "      <td>4.000000</td>\n",
       "    </tr>\n",
       "    <tr>\n",
       "      <th>75%</th>\n",
       "      <td>1.000000</td>\n",
       "      <td>19.000000</td>\n",
       "      <td>6.000000</td>\n",
       "      <td>6.000000</td>\n",
       "      <td>6.000000</td>\n",
       "      <td>6.000000</td>\n",
       "      <td>5.000000</td>\n",
       "    </tr>\n",
       "    <tr>\n",
       "      <th>max</th>\n",
       "      <td>1.000000</td>\n",
       "      <td>28.000000</td>\n",
       "      <td>7.000000</td>\n",
       "      <td>7.000000</td>\n",
       "      <td>7.000000</td>\n",
       "      <td>7.000000</td>\n",
       "      <td>7.000000</td>\n",
       "    </tr>\n",
       "  </tbody>\n",
       "</table>\n",
       "</div>"
      ],
      "text/plain": [
       "           Gender         Age    openness  neuroticism  conscientiousness  \\\n",
       "count  304.000000  304.000000  304.000000   304.000000         304.000000   \n",
       "mean     0.588816   19.213816    5.148026     4.463816           4.388158   \n",
       "std      0.492860    2.059432    1.407592     1.762838           1.783864   \n",
       "min      0.000000   17.000000    1.000000     1.000000           1.000000   \n",
       "25%      0.000000   18.000000    4.000000     3.000000           3.000000   \n",
       "50%      1.000000   19.000000    5.000000     5.000000           5.000000   \n",
       "75%      1.000000   19.000000    6.000000     6.000000           6.000000   \n",
       "max      1.000000   28.000000    7.000000     7.000000           7.000000   \n",
       "\n",
       "       agreeableness  extraversion  \n",
       "count     304.000000    304.000000  \n",
       "mean        4.953947      4.276316  \n",
       "std         1.605843      1.629746  \n",
       "min         1.000000      1.000000  \n",
       "25%         4.000000      3.000000  \n",
       "50%         5.000000      4.000000  \n",
       "75%         6.000000      5.000000  \n",
       "max         7.000000      7.000000  "
      ]
     },
     "execution_count": 4,
     "metadata": {},
     "output_type": "execute_result"
    }
   ],
   "source": [
    "clean_data = {'Gender' : {'Male' :0, 'Female' : 1}}\n",
    "data_copy = data.copy()\n",
    "data_copy.replace(clean_data, inplace = True)\n",
    "plt.figure(figsize=(12,8))\n",
    "sns.heatmap(data.describe()[1:].transpose(),\n",
    "            annot=True,linecolor=\"w\",\n",
    "            linewidth=2,cmap=sns.color_palette(\"tab10\"))\n",
    "plt.title(\"Data summary\")\n",
    "plt.show()\n",
    "data_copy.describe()\n"
   ]
  },
  {
   "cell_type": "code",
   "execution_count": 5,
   "id": "53b5ce85",
   "metadata": {},
   "outputs": [
    {
     "data": {
      "text/plain": [
       "dependable     56\n",
       "lively         56\n",
       "responsible    57\n",
       "extraverted    67\n",
       "serious        68\n",
       "Name: Personality (Class label), dtype: int64"
      ]
     },
     "execution_count": 5,
     "metadata": {},
     "output_type": "execute_result"
    }
   ],
   "source": [
    "data['Personality (Class label)'].value_counts().sort_values()"
   ]
  },
  {
   "cell_type": "code",
   "execution_count": 6,
   "id": "18f36503",
   "metadata": {},
   "outputs": [
    {
     "name": "stdout",
     "output_type": "stream",
     "text": [
      "Size of X_train :  (243, 7)\n",
      "Size of y_train :  (243,)\n",
      "Size of X_test :  (61, 7)\n",
      "Size of Y_test :  (61,)\n"
     ]
    }
   ],
   "source": [
    "data_pre = data_copy.copy()\n",
    "X = data_pre.drop('Personality (Class label)',axis=1)\n",
    "y = data_pre['Personality (Class label)']\n",
    "\n",
    "X_train, X_test, y_train, y_test = train_test_split(X,y,test_size=0.2, random_state=0)\n",
    "\n",
    "print('Size of X_train : ', X_train.shape)\n",
    "print('Size of y_train : ', y_train.shape)\n",
    "print('Size of X_test : ', X_test.shape)\n",
    "print('Size of Y_test : ', y_test.shape)"
   ]
  },
  {
   "cell_type": "code",
   "execution_count": 7,
   "id": "c36ca8ac",
   "metadata": {},
   "outputs": [
    {
     "name": "stdout",
     "output_type": "stream",
     "text": [
      "['dependable' 'serious' 'lively' 'responsible' 'extraverted' 'dependable'\n",
      " 'serious' 'lively' 'dependable' 'lively' 'serious' 'lively' 'serious'\n",
      " 'dependable' 'responsible' 'serious' 'serious' 'serious' 'extraverted'\n",
      " 'responsible' 'serious' 'extraverted' 'serious' 'responsible'\n",
      " 'extraverted' 'dependable' 'serious' 'serious' 'dependable' 'dependable'\n",
      " 'dependable' 'dependable' 'extraverted' 'responsible' 'extraverted'\n",
      " 'extraverted' 'extraverted' 'lively' 'lively' 'serious' 'extraverted'\n",
      " 'extraverted' 'serious' 'lively' 'extraverted' 'dependable' 'lively'\n",
      " 'extraverted' 'serious' 'extraverted' 'serious' 'lively' 'dependable'\n",
      " 'serious' 'extraverted' 'lively' 'extraverted' 'dependable' 'extraverted'\n",
      " 'dependable' 'dependable']\n"
     ]
    },
    {
     "data": {
      "text/plain": [
       "0.18032786885245902"
      ]
     },
     "execution_count": 7,
     "metadata": {},
     "output_type": "execute_result"
    }
   ],
   "source": [
    "knn=KNeighborsClassifier(n_neighbors=15)\n",
    "knn.fit(X_train,y_train)\n",
    "knn.score(X_train,y_train)\n",
    "y_pred_knn=knn.predict(X_test)\n",
    "print(y_pred_knn)\n",
    "knn.score(X_test,y_test)"
   ]
  },
  {
   "cell_type": "code",
   "execution_count": 31,
   "id": "e71aa910",
   "metadata": {},
   "outputs": [
    {
     "data": {
      "image/png": "[encoded data removed]",
      "text/plain": [
       "<Figure size 360x360 with 1 Axes>"
      ]
     },
     "metadata": {
      "needs_background": "light"
     },
     "output_type": "display_data"
    },
    {
     "name": "stdout",
     "output_type": "stream",
     "text": [
      "Recall: 0.180\n",
      "Precision: 0.180\n",
      "F1 Score: 0.180\n",
      "Accuracy: 0.180\n"
     ]
    }
   ],
   "source": [
    "conf_matrix = confusion_matrix(y_true=y_test, y_pred=y_pred_knn)\n",
    "\n",
    "fig, ax = plt.subplots(figsize=(5, 5))\n",
    "ax.matshow(conf_matrix, cmap=plt.cm.Oranges, alpha=0.3)\n",
    "for i in range(conf_matrix.shape[0]):\n",
    "    for j in range(conf_matrix.shape[1]):\n",
    "        ax.text(x=j, y=i,s=conf_matrix[i, j], va='center', ha='center', size='xx-large')\n",
    " \n",
    "plt.xlabel('Predictions', fontsize=18)\n",
    "plt.ylabel('Actuals', fontsize=18)\n",
    "plt.title('Confusion Matrix', fontsize=18)\n",
    "plt.show()\n",
    "\n",
    "print('Recall: %.3f' % recall_score(y_test, y_pred_knn,average='micro'))\n",
    "print('Precision: %.3f' % precision_score(y_test, y_pred_knn,average='micro'))\n",
    "print('F1 Score: %.3f' % f1_score(y_test, y_pred_knn,average='micro'))\n",
    "print('Accuracy: %.3f' % accuracy_score(y_test, y_pred_knn))"
   ]
  },
  {
   "cell_type": "code",
   "execution_count": 58,
   "id": "b7dd5cd6",
   "metadata": {},
   "outputs": [
    {
     "name": "stdout",
     "output_type": "stream",
     "text": [
      "['extraverted' 'responsible' 'lively' 'responsible' 'serious'\n",
      " 'extraverted' 'extraverted' 'extraverted' 'extraverted' 'serious'\n",
      " 'lively' 'serious' 'extraverted' 'lively' 'serious' 'extraverted'\n",
      " 'responsible' 'extraverted' 'extraverted' 'responsible' 'lively' 'lively'\n",
      " 'extraverted' 'lively' 'extraverted' 'extraverted' 'serious'\n",
      " 'extraverted' 'lively' 'lively' 'extraverted' 'serious' 'extraverted'\n",
      " 'serious' 'extraverted' 'extraverted' 'extraverted' 'extraverted'\n",
      " 'lively' 'lively' 'serious' 'lively' 'responsible' 'lively' 'extraverted'\n",
      " 'extraverted' 'extraverted' 'extraverted' 'extraverted' 'responsible'\n",
      " 'extraverted' 'serious' 'extraverted' 'extraverted' 'extraverted'\n",
      " 'serious' 'lively' 'responsible' 'extraverted' 'extraverted' 'serious']\n"
     ]
    },
    {
     "data": {
      "text/plain": [
       "0.19672131147540983"
      ]
     },
     "execution_count": 58,
     "metadata": {},
     "output_type": "execute_result"
    }
   ],
   "source": [
    "mul_lr = LogisticRegression(multi_class='multinomial', solver='newton-cg',max_iter =1000)\n",
    "mul_lr.fit(X_train, y_train)\n",
    "mul_lr.score(X_train, y_train)\n",
    "y_pred_logistic=mul_lr.predict(X_test)\n",
    "print(y_pred_logistic)\n",
    "mul_lr.score(X_test,y_test)"
   ]
  },
  {
   "cell_type": "code",
   "execution_count": 57,
   "id": "12fbc88e",
   "metadata": {},
   "outputs": [
    {
     "data": {
      "image/png": "[encoded data removed]",
      "text/plain": [
       "<Figure size 360x360 with 1 Axes>"
      ]
     },
     "metadata": {
      "needs_background": "light"
     },
     "output_type": "display_data"
    },
    {
     "name": "stdout",
     "output_type": "stream",
     "text": [
      "Recall: 0.197\n",
      "Precision: 0.197\n",
      "F1 Score: 0.197\n",
      "Accuracy: 0.197\n"
     ]
    }
   ],
   "source": [
    "conf_matrix = confusion_matrix(y_true=y_test, y_pred=y_pred_logistic)\n",
    "\n",
    "fig, ax = plt.subplots(figsize=(5, 5))\n",
    "ax.matshow(conf_matrix, cmap=plt.cm.Oranges, alpha=0.3)\n",
    "for i in range(conf_matrix.shape[0]):\n",
    "    for j in range(conf_matrix.shape[1]):\n",
    "        ax.text(x=j, y=i,s=conf_matrix[i, j], va='center', ha='center', size='xx-large')\n",
    " \n",
    "plt.xlabel('Predictions', fontsize=18)\n",
    "plt.ylabel('Actuals', fontsize=18)\n",
    "plt.title('Confusion Matrix', fontsize=18)\n",
    "plt.show()\n",
    "\n",
    "print('Recall: %.3f' % recall_score(y_test, y_pred_logistic,average='micro'))\n",
    "print('Precision: %.3f' % precision_score(y_test, y_pred_logistic,average='micro'))\n",
    "print('F1 Score: %.3f' % f1_score(y_test, y_pred_logistic,average='micro'))\n",
    "print('Accuracy: %.3f' % accuracy_score(y_test, y_pred_logistic))"
   ]
  },
  {
   "cell_type": "code",
   "execution_count": 43,
   "id": "5904a380",
   "metadata": {},
   "outputs": [
    {
     "name": "stdout",
     "output_type": "stream",
     "text": [
      "['extraverted' 'responsible' 'serious' 'responsible' 'serious'\n",
      " 'extraverted' 'extraverted' 'responsible' 'dependable' 'serious'\n",
      " 'serious' 'serious' 'extraverted' 'lively' 'serious' 'serious' 'serious'\n",
      " 'serious' 'serious' 'serious' 'lively' 'serious' 'serious' 'serious'\n",
      " 'extraverted' 'serious' 'lively' 'extraverted' 'lively' 'lively'\n",
      " 'serious' 'serious' 'serious' 'serious' 'extraverted' 'serious'\n",
      " 'extraverted' 'extraverted' 'serious' 'serious' 'responsible' 'lively'\n",
      " 'serious' 'extraverted' 'serious' 'serious' 'extraverted' 'extraverted'\n",
      " 'serious' 'responsible' 'serious' 'serious' 'serious' 'serious'\n",
      " 'extraverted' 'serious' 'lively' 'dependable' 'extraverted' 'extraverted'\n",
      " 'serious']\n"
     ]
    },
    {
     "data": {
      "text/plain": [
       "0.16393442622950818"
      ]
     },
     "execution_count": 43,
     "metadata": {},
     "output_type": "execute_result"
    }
   ],
   "source": [
    "nb=GaussianNB()\n",
    "nb.fit(X_train,y_train)\n",
    "y_pred_NB=nb.predict(X_test)\n",
    "print(y_pred_NB)\n",
    "nb.score(X_test,y_test)"
   ]
  },
  {
   "cell_type": "code",
   "execution_count": 44,
   "id": "28bb735a",
   "metadata": {},
   "outputs": [
    {
     "data": {
      "image/png": "[encoded data removed]",
      "text/plain": [
       "<Figure size 360x360 with 1 Axes>"
      ]
     },
     "metadata": {
      "needs_background": "light"
     },
     "output_type": "display_data"
    },
    {
     "name": "stdout",
     "output_type": "stream",
     "text": [
      "Recall: 0.164\n",
      "Precision: 0.164\n",
      "F1 Score: 0.164\n",
      "Accuracy: 0.164\n"
     ]
    }
   ],
   "source": [
    "conf_matrix = confusion_matrix(y_true=y_test, y_pred=y_pred_NB)\n",
    "\n",
    "fig, ax = plt.subplots(figsize=(5, 5))\n",
    "ax.matshow(conf_matrix, cmap=plt.cm.Oranges, alpha=0.3)\n",
    "for i in range(conf_matrix.shape[0]):\n",
    "    for j in range(conf_matrix.shape[1]):\n",
    "        ax.text(x=j, y=i,s=conf_matrix[i, j], va='center', ha='center', size='xx-large')\n",
    " \n",
    "plt.xlabel('Predictions', fontsize=18)\n",
    "plt.ylabel('Actuals', fontsize=18)\n",
    "plt.title('Confusion Matrix', fontsize=18)\n",
    "plt.show()\n",
    "\n",
    "print('Recall: %.3f' % recall_score(y_test, y_pred_NB,average='micro'))\n",
    "print('Precision: %.3f' % precision_score(y_test, y_pred_NB,average='micro'))\n",
    "print('F1 Score: %.3f' % f1_score(y_test, y_pred_NB,average='micro'))\n",
    "print('Accuracy: %.3f' % accuracy_score(y_test, y_pred_NB))"
   ]
  },
  {
   "cell_type": "code",
   "execution_count": 45,
   "id": "4586d368",
   "metadata": {},
   "outputs": [
    {
     "name": "stdout",
     "output_type": "stream",
     "text": [
      "['extraverted' 'responsible' 'lively' 'responsible' 'extraverted'\n",
      " 'extraverted' 'extraverted' 'extraverted' 'extraverted' 'responsible'\n",
      " 'serious' 'extraverted' 'extraverted' 'lively' 'extraverted'\n",
      " 'extraverted' 'lively' 'extraverted' 'extraverted' 'extraverted' 'lively'\n",
      " 'serious' 'extraverted' 'serious' 'extraverted' 'extraverted' 'serious'\n",
      " 'lively' 'serious' 'serious' 'extraverted' 'serious' 'extraverted'\n",
      " 'extraverted' 'extraverted' 'extraverted' 'extraverted' 'extraverted'\n",
      " 'extraverted' 'lively' 'serious' 'lively' 'responsible' 'serious'\n",
      " 'extraverted' 'extraverted' 'extraverted' 'extraverted' 'extraverted'\n",
      " 'extraverted' 'extraverted' 'extraverted' 'extraverted' 'extraverted'\n",
      " 'extraverted' 'serious' 'lively' 'extraverted' 'extraverted'\n",
      " 'extraverted' 'extraverted']\n"
     ]
    }
   ],
   "source": [
    "from sklearn.svm import SVC\n",
    "svm=SVC(kernel=\"linear\",C=0.025,random_state=101)\n",
    "svm.fit(X_train,y_train)\n",
    "y_pred_SVC=svm.predict(X_test)\n",
    "print(y_pred_SVC)"
   ]
  },
  {
   "cell_type": "code",
   "execution_count": 47,
   "id": "bbf9a0e3",
   "metadata": {},
   "outputs": [
    {
     "data": {
      "image/png": "[encoded data removed]",
      "text/plain": [
       "<Figure size 360x360 with 1 Axes>"
      ]
     },
     "metadata": {
      "needs_background": "light"
     },
     "output_type": "display_data"
    },
    {
     "name": "stdout",
     "output_type": "stream",
     "text": [
      "Recall: 0.148\n",
      "Precision: 0.148\n",
      "F1 Score: 0.148\n",
      "Accuracy: 0.148\n"
     ]
    }
   ],
   "source": [
    "conf_matrix = confusion_matrix(y_true=y_test, y_pred=y_pred_SVC)\n",
    "\n",
    "fig, ax = plt.subplots(figsize=(5, 5))\n",
    "ax.matshow(conf_matrix, cmap=plt.cm.Oranges, alpha=0.3)\n",
    "for i in range(conf_matrix.shape[0]):\n",
    "    for j in range(conf_matrix.shape[1]):\n",
    "        ax.text(x=j, y=i,s=conf_matrix[i, j], va='center', ha='center', size='xx-large')\n",
    " \n",
    "plt.xlabel('Predictions', fontsize=18)\n",
    "plt.ylabel('Actuals', fontsize=18)\n",
    "plt.title('Confusion Matrix', fontsize=18)\n",
    "plt.show()\n",
    "\n",
    "print('Recall: %.3f' % recall_score(y_test, y_pred_SVC,average='micro'))\n",
    "print('Precision: %.3f' % precision_score(y_test, y_pred_SVC,average='micro'))\n",
    "print('F1 Score: %.3f' % f1_score(y_test, y_pred_SVC,average='micro'))\n",
    "print('Accuracy: %.3f' % accuracy_score(y_test, y_pred_SVC))"
   ]
  },
  {
   "cell_type": "code",
   "execution_count": 48,
   "id": "5453b9e7",
   "metadata": {},
   "outputs": [
    {
     "name": "stdout",
     "output_type": "stream",
     "text": [
      "['extraverted' 'responsible' 'lively' 'extraverted' 'dependable'\n",
      " 'extraverted' 'extraverted' 'extraverted' 'extraverted' 'serious'\n",
      " 'serious' 'extraverted' 'extraverted' 'lively' 'lively' 'extraverted'\n",
      " 'responsible' 'extraverted' 'extraverted' 'lively' 'lively' 'lively'\n",
      " 'serious' 'lively' 'extraverted' 'extraverted' 'lively' 'lively' 'lively'\n",
      " 'lively' 'extraverted' 'serious' 'extraverted' 'extraverted'\n",
      " 'extraverted' 'extraverted' 'extraverted' 'extraverted' 'lively' 'lively'\n",
      " 'responsible' 'lively' 'serious' 'lively' 'extraverted' 'extraverted'\n",
      " 'extraverted' 'extraverted' 'extraverted' 'extraverted' 'extraverted'\n",
      " 'extraverted' 'extraverted' 'extraverted' 'extraverted' 'lively' 'lively'\n",
      " 'extraverted' 'extraverted' 'extraverted' 'serious']\n"
     ]
    }
   ],
   "source": [
    "rfm=RandomForestClassifier(n_estimators=70,oob_score=True,n_jobs=-1,random_state=101,max_features=None,min_samples_leaf=30)\n",
    "rfm.fit(X_train,y_train)\n",
    "y_pred_rfm=rfm.predict(X_test)\n",
    "print(y_pred_rfm)"
   ]
  },
  {
   "cell_type": "code",
   "execution_count": 50,
   "id": "2222ad53",
   "metadata": {},
   "outputs": [
    {
     "data": {
      "image/png": "[encoded data removed]",
      "text/plain": [
       "<Figure size 360x360 with 1 Axes>"
      ]
     },
     "metadata": {
      "needs_background": "light"
     },
     "output_type": "display_data"
    },
    {
     "name": "stdout",
     "output_type": "stream",
     "text": [
      "Recall: 0.164\n",
      "Precision: 0.164\n",
      "F1 Score: 0.164\n",
      "Accuracy: 0.164\n"
     ]
    }
   ],
   "source": [
    "conf_matrix = confusion_matrix(y_true=y_test, y_pred=y_pred_rfm)\n",
    "\n",
    "fig, ax = plt.subplots(figsize=(5, 5))\n",
    "ax.matshow(conf_matrix, cmap=plt.cm.Oranges, alpha=0.3)\n",
    "for i in range(conf_matrix.shape[0]):\n",
    "    for j in range(conf_matrix.shape[1]):\n",
    "        ax.text(x=j, y=i,s=conf_matrix[i, j], va='center', ha='center', size='xx-large')\n",
    " \n",
    "plt.xlabel('Predictions', fontsize=18)\n",
    "plt.ylabel('Actuals', fontsize=18)\n",
    "plt.title('Confusion Matrix', fontsize=18)\n",
    "plt.show()\n",
    "\n",
    "print('Recall: %.3f' % recall_score(y_test, y_pred_rfm,average='micro'))\n",
    "print('Precision: %.3f' % precision_score(y_test, y_pred_rfm,average='micro'))\n",
    "print('F1 Score: %.3f' % f1_score(y_test, y_pred_rfm,average='micro'))\n",
    "print('Accuracy: %.3f' % accuracy_score(y_test, y_pred_rfm))"
   ]
  },
  {
   "cell_type": "code",
   "execution_count": 55,
   "id": "0b21d0ce",
   "metadata": {},
   "outputs": [
    {
     "name": "stdout",
     "output_type": "stream",
     "text": [
      "['dependable' 'dependable' 'serious' 'dependable' 'dependable'\n",
      " 'extraverted' 'serious' 'responsible' 'serious' 'dependable'\n",
      " 'responsible' 'serious' 'extraverted' 'extraverted' 'extraverted'\n",
      " 'dependable' 'responsible' 'responsible' 'responsible' 'dependable'\n",
      " 'serious' 'responsible' 'responsible' 'responsible' 'lively'\n",
      " 'responsible' 'lively' 'extraverted' 'extraverted' 'lively' 'lively'\n",
      " 'lively' 'dependable' 'extraverted' 'extraverted' 'dependable'\n",
      " 'responsible' 'dependable' 'extraverted' 'dependable' 'dependable'\n",
      " 'lively' 'dependable' 'extraverted' 'serious' 'dependable' 'responsible'\n",
      " 'dependable' 'serious' 'extraverted' 'dependable' 'serious' 'serious'\n",
      " 'serious' 'responsible' 'extraverted' 'extraverted' 'lively' 'dependable'\n",
      " 'dependable' 'dependable']\n"
     ]
    },
    {
     "data": {
      "text/plain": [
       "0.21311475409836064"
      ]
     },
     "execution_count": 55,
     "metadata": {},
     "output_type": "execute_result"
    }
   ],
   "source": [
    "from sklearn.tree import DecisionTreeClassifier\n",
    "clf = DecisionTreeClassifier()\n",
    "\n",
    "clf = clf.fit(X_train,y_train)\n",
    "\n",
    "y_pred_dtc = clf.predict(X_test)\n",
    "\n",
    "print(y_pred_dtc)\n",
    "clf.score(X_test,y_test)"
   ]
  },
  {
   "cell_type": "code",
   "execution_count": 56,
   "id": "ead4eabf",
   "metadata": {},
   "outputs": [
    {
     "data": {
      "image/png": "[encoded data removed]",
      "text/plain": [
       "<Figure size 360x360 with 1 Axes>"
      ]
     },
     "metadata": {
      "needs_background": "light"
     },
     "output_type": "display_data"
    },
    {
     "name": "stdout",
     "output_type": "stream",
     "text": [
      "Recall: 0.213\n",
      "Precision: 0.213\n",
      "F1 Score: 0.213\n",
      "Accuracy: 0.213\n"
     ]
    }
   ],
   "source": [
    "conf_matrix = confusion_matrix(y_true=y_test, y_pred=y_pred_dtc)\n",
    "\n",
    "fig, ax = plt.subplots(figsize=(5, 5))\n",
    "ax.matshow(conf_matrix, cmap=plt.cm.Oranges, alpha=0.3)\n",
    "for i in range(conf_matrix.shape[0]):\n",
    "    for j in range(conf_matrix.shape[1]):\n",
    "        ax.text(x=j, y=i,s=conf_matrix[i, j], va='center', ha='center', size='xx-large')\n",
    " \n",
    "plt.xlabel('Predictions', fontsize=18)\n",
    "plt.ylabel('Actuals', fontsize=18)\n",
    "plt.title('Confusion Matrix', fontsize=18)\n",
    "plt.show()\n",
    "\n",
    "print('Recall: %.3f' % recall_score(y_test, y_pred_dtc,average='micro'))\n",
    "print('Precision: %.3f' % precision_score(y_test, y_pred_dtc,average='micro'))\n",
    "print('F1 Score: %.3f' % f1_score(y_test, y_pred_dtc,average='micro'))\n",
    "print('Accuracy: %.3f' % accuracy_score(y_test, y_pred_dtc))"
   ]
  },
  {
   "cell_type": "code",
   "execution_count": 54,
   "id": "d6988094",
   "metadata": {},
   "outputs": [
    {
     "name": "stdout",
     "output_type": "stream",
     "text": [
      "              precision    recall  f1-score   support\n",
      "\n",
      "  dependable       0.14      0.20      0.17        10\n",
      " extraverted       0.06      0.10      0.08        10\n",
      "      lively       0.00      0.00      0.00        12\n",
      " responsible       0.40      0.20      0.27        10\n",
      "     serious       0.38      0.32      0.34        19\n",
      "\n",
      "    accuracy                           0.18        61\n",
      "   macro avg       0.20      0.16      0.17        61\n",
      "weighted avg       0.22      0.18      0.19        61\n",
      "\n",
      "              precision    recall  f1-score   support\n",
      "\n",
      "  dependable       0.50      0.10      0.17        10\n",
      " extraverted       0.13      0.20      0.16        10\n",
      "      lively       0.14      0.08      0.11        12\n",
      " responsible       0.00      0.00      0.00        10\n",
      "     serious       0.19      0.32      0.24        19\n",
      "\n",
      "    accuracy                           0.16        61\n",
      "   macro avg       0.19      0.14      0.13        61\n",
      "weighted avg       0.19      0.16      0.15        61\n",
      "\n",
      "              precision    recall  f1-score   support\n",
      "\n",
      "  dependable       0.00      0.00      0.00        10\n",
      " extraverted       0.15      0.60      0.24        10\n",
      "      lively       0.00      0.00      0.00        12\n",
      " responsible       0.25      0.10      0.14        10\n",
      "     serious       0.20      0.11      0.14        19\n",
      "\n",
      "    accuracy                           0.15        61\n",
      "   macro avg       0.12      0.16      0.11        61\n",
      "weighted avg       0.13      0.15      0.11        61\n",
      "\n",
      "              precision    recall  f1-score   support\n",
      "\n",
      "  dependable       0.00      0.00      0.00        10\n",
      " extraverted       0.18      0.60      0.27        10\n",
      "      lively       0.06      0.08      0.07        12\n",
      " responsible       0.33      0.10      0.15        10\n",
      "     serious       0.33      0.11      0.16        19\n",
      "\n",
      "    accuracy                           0.16        61\n",
      "   macro avg       0.18      0.18      0.13        61\n",
      "weighted avg       0.20      0.16      0.13        61\n",
      "\n",
      "              precision    recall  f1-score   support\n",
      "\n",
      "  dependable       0.06      0.10      0.07        10\n",
      " extraverted       0.21      0.30      0.25        10\n",
      "      lively       0.43      0.25      0.32        12\n",
      " responsible       0.17      0.20      0.18        10\n",
      "     serious       0.27      0.16      0.20        19\n",
      "\n",
      "    accuracy                           0.20        61\n",
      "   macro avg       0.23      0.20      0.20        61\n",
      "weighted avg       0.24      0.20      0.21        61\n",
      "\n"
     ]
    },
    {
     "name": "stderr",
     "output_type": "stream",
     "text": [
      "C:\\Users\\arifa\\anaconda3\\lib\\site-packages\\sklearn\\metrics\\_classification.py:1248: UndefinedMetricWarning: Precision and F-score are ill-defined and being set to 0.0 in labels with no predicted samples. Use `zero_division` parameter to control this behavior.\n",
      "  _warn_prf(average, modifier, msg_start, len(result))\n",
      "C:\\Users\\arifa\\anaconda3\\lib\\site-packages\\sklearn\\metrics\\_classification.py:1248: UndefinedMetricWarning: Precision and F-score are ill-defined and being set to 0.0 in labels with no predicted samples. Use `zero_division` parameter to control this behavior.\n",
      "  _warn_prf(average, modifier, msg_start, len(result))\n",
      "C:\\Users\\arifa\\anaconda3\\lib\\site-packages\\sklearn\\metrics\\_classification.py:1248: UndefinedMetricWarning: Precision and F-score are ill-defined and being set to 0.0 in labels with no predicted samples. Use `zero_division` parameter to control this behavior.\n",
      "  _warn_prf(average, modifier, msg_start, len(result))\n"
     ]
    }
   ],
   "source": [
    "from sklearn.metrics import classification_report\n",
    "print(classification_report(y_test,y_pred_knn))\n",
    "#print(classification_report(y_test,y_pred_logistic))\n",
    "print(classification_report(y_test,y_pred_NB))\n",
    "print(classification_report(y_test,y_pred_SVC))\n",
    "print(classification_report(y_test,y_pred_rfm))\n",
    "print(classification_report(y_test,y_pred_dtc))"
   ]
  },
  {
   "cell_type": "code",
   "execution_count": 42,
   "id": "94fb0800",
   "metadata": {},
   "outputs": [
    {
     "name": "stdout",
     "output_type": "stream",
     "text": [
      "['responsible' 'responsible' 'lively' 'responsible' 'responsible'\n",
      " 'responsible' 'responsible' 'responsible' 'responsible' 'responsible'\n",
      " 'lively' 'responsible' 'responsible' 'responsible' 'responsible'\n",
      " 'responsible' 'responsible' 'responsible' 'lively' 'responsible'\n",
      " 'responsible' 'responsible' 'responsible' 'responsible' 'responsible'\n",
      " 'responsible' 'lively' 'responsible' 'responsible' 'lively' 'responsible'\n",
      " 'responsible' 'responsible' 'responsible' 'responsible' 'responsible'\n",
      " 'extraverted' 'responsible' 'responsible' 'responsible' 'responsible'\n",
      " 'responsible' 'responsible' 'lively' 'extraverted' 'extraverted'\n",
      " 'responsible' 'responsible' 'responsible' 'responsible' 'responsible'\n",
      " 'responsible' 'extraverted' 'responsible' 'responsible' 'responsible'\n",
      " 'responsible' 'responsible' 'extraverted' 'responsible' 'responsible']\n",
      "Accuracy: 0.18\n"
     ]
    }
   ],
   "source": [
    "from sklearn.linear_model import SGDClassifier\n",
    "clf = SGDClassifier(loss=\"log\", penalty=\"l2\")\n",
    "clf = clf.fit(X_train,y_train)\n",
    "\n",
    "y_pred_SGD = clf.predict(X_test)\n",
    "print(y_pred_SGD)\n",
    "clf.score(X_test,y_test)\n",
    "print('Accuracy: {:.2f}'.format(accuracy_score(y_test, y_pred_SGD)))"
   ]
  },
  {
   "cell_type": "code",
   "execution_count": null,
   "id": "b0426329",
   "metadata": {},
   "outputs": [],
   "source": []
  },
  {
   "cell_type": "code",
   "execution_count": null,
   "id": "dcbfcecb",
   "metadata": {},
   "outputs": [],
   "source": []
  }
 ],
 "metadata": {
  "kernelspec": {
   "display_name": "Python 3 (ipykernel)",
   "language": "python",
   "name": "python3"
  },
  "language_info": {
   "codemirror_mode": {
    "name": "ipython",
    "version": 3
   },
   "file_extension": ".py",
   "mimetype": "text/x-python",
   "name": "python",
   "nbconvert_exporter": "python",
   "pygments_lexer": "ipython3",
   "version": "3.9.7"
  }
 },
 "nbformat": 4,
 "nbformat_minor": 5
}
